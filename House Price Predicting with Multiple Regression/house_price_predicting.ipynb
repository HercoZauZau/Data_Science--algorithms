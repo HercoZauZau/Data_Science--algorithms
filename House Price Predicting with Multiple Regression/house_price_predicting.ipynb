{
 "cells": [
  {
   "cell_type": "code",
   "execution_count": 8,
   "id": "5ad93eaa",
   "metadata": {
    "ExecuteTime": {
     "end_time": "2023-07-10T04:53:17.029439Z",
     "start_time": "2023-07-10T04:53:16.320377Z"
    }
   },
   "outputs": [],
   "source": [
    "import pandas as pd\n",
    "from sklearn.linear_model import Ridge\n",
    "from sklearn.model_selection import train_test_split\n",
    "from sklearn.metrics import mean_squared_error\n",
    "from sklearn.impute import SimpleImputer"
   ]
  },
  {
   "cell_type": "code",
   "execution_count": 9,
   "id": "47dd21cf",
   "metadata": {
    "ExecuteTime": {
     "end_time": "2023-07-10T04:53:18.507660Z",
     "start_time": "2023-07-10T04:53:18.422904Z"
    }
   },
   "outputs": [],
   "source": [
    "# Load the dataset\n",
    "data = pd.read_csv('housing.csv')"
   ]
  },
  {
   "cell_type": "code",
   "execution_count": 10,
   "id": "d96d16c1",
   "metadata": {
    "ExecuteTime": {
     "end_time": "2023-07-10T04:53:20.281312Z",
     "start_time": "2023-07-10T04:53:20.274330Z"
    }
   },
   "outputs": [],
   "source": [
    "X = data.drop(['median_house_value','ocean_proximity'], axis=1)\n",
    "y = data['median_house_value']"
   ]
  },
  {
   "cell_type": "code",
   "execution_count": 11,
   "id": "99695d51",
   "metadata": {
    "ExecuteTime": {
     "end_time": "2023-07-10T04:53:22.449487Z",
     "start_time": "2023-07-10T04:53:22.323530Z"
    }
   },
   "outputs": [],
   "source": [
    "# Handle missing values\n",
    "imputer = SimpleImputer(strategy='mean')\n",
    "X = imputer.fit_transform(X)"
   ]
  },
  {
   "cell_type": "code",
   "execution_count": 12,
   "id": "5b63344b",
   "metadata": {
    "ExecuteTime": {
     "end_time": "2023-07-10T04:53:25.469040Z",
     "start_time": "2023-07-10T04:53:25.450723Z"
    }
   },
   "outputs": [
    {
     "name": "stdout",
     "output_type": "stream",
     "text": [
      "Mean Squared Error: 5052940503.45279\n"
     ]
    }
   ],
   "source": [
    "# Split the data into training and test sets\n",
    "X_train, X_test, y_train, y_test = train_test_split(X, y, test_size=0.2, random_state=42)\n",
    "\n",
    "# Create a Ridge regression model\n",
    "model = Ridge(alpha=0.5)  # Adjust the regularization strength with the alpha parameter\n",
    "\n",
    "# Fit the model to the training data\n",
    "model.fit(X_train, y_train)\n",
    "\n",
    "# Predict the target variable for the test data\n",
    "y_pred = model.predict(X_test)\n",
    "\n",
    "# Evaluate the model\n",
    "mse = mean_squared_error(y_test, y_pred)\n",
    "print(\"Mean Squared Error:\", mse)\n"
   ]
  },
  {
   "cell_type": "code",
   "execution_count": 14,
   "id": "aa85429e",
   "metadata": {
    "ExecuteTime": {
     "end_time": "2023-07-10T05:02:22.197695Z",
     "start_time": "2023-07-10T05:02:22.178185Z"
    }
   },
   "outputs": [
    {
     "name": "stdout",
     "output_type": "stream",
     "text": [
      "Predicted values: [231723.63616209]\n"
     ]
    }
   ],
   "source": [
    "# Predict new values\n",
    "new_data = [[-122.23, 37.85, 40, 300, 150, 200, 123, 3.5875]]  # Example new data\n",
    "predicted_values = model.predict(new_data)\n",
    "\n",
    "print(\"Predicted values:\", predicted_values)"
   ]
  },
  {
   "cell_type": "code",
   "execution_count": null,
   "id": "c273200f",
   "metadata": {},
   "outputs": [],
   "source": []
  }
 ],
 "metadata": {
  "kernelspec": {
   "display_name": "Python 3 (ipykernel)",
   "language": "python",
   "name": "python3"
  },
  "language_info": {
   "codemirror_mode": {
    "name": "ipython",
    "version": 3
   },
   "file_extension": ".py",
   "mimetype": "text/x-python",
   "name": "python",
   "nbconvert_exporter": "python",
   "pygments_lexer": "ipython3",
   "version": "3.10.11"
  },
  "toc": {
   "base_numbering": 1,
   "nav_menu": {},
   "number_sections": true,
   "sideBar": true,
   "skip_h1_title": false,
   "title_cell": "Table of Contents",
   "title_sidebar": "Contents",
   "toc_cell": false,
   "toc_position": {},
   "toc_section_display": true,
   "toc_window_display": false
  },
  "varInspector": {
   "cols": {
    "lenName": 16,
    "lenType": 16,
    "lenVar": 40
   },
   "kernels_config": {
    "python": {
     "delete_cmd_postfix": "",
     "delete_cmd_prefix": "del ",
     "library": "var_list.py",
     "varRefreshCmd": "print(var_dic_list())"
    },
    "r": {
     "delete_cmd_postfix": ") ",
     "delete_cmd_prefix": "rm(",
     "library": "var_list.r",
     "varRefreshCmd": "cat(var_dic_list()) "
    }
   },
   "types_to_exclude": [
    "module",
    "function",
    "builtin_function_or_method",
    "instance",
    "_Feature"
   ],
   "window_display": false
  }
 },
 "nbformat": 4,
 "nbformat_minor": 5
}
