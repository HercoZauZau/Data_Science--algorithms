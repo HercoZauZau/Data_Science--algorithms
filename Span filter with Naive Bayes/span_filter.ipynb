{
 "cells": [
  {
   "cell_type": "code",
   "execution_count": 1,
   "id": "479af232",
   "metadata": {
    "ExecuteTime": {
     "end_time": "2023-07-09T06:02:23.499387Z",
     "start_time": "2023-07-09T06:02:05.092523Z"
    }
   },
   "outputs": [],
   "source": [
    "import pandas as pd\n",
    "from sklearn.feature_extraction.text import CountVectorizer\n",
    "from sklearn.model_selection import train_test_split\n",
    "from sklearn.naive_bayes import MultinomialNB\n",
    "from sklearn.metrics import accuracy_score"
   ]
  },
  {
   "cell_type": "code",
   "execution_count": 3,
   "id": "dd56c5e6",
   "metadata": {
    "ExecuteTime": {
     "end_time": "2023-07-09T06:06:51.907305Z",
     "start_time": "2023-07-09T06:06:51.866871Z"
    }
   },
   "outputs": [],
   "source": [
    "# Load the data into a DataFrame\n",
    "data = pd.read_csv('spam_data.csv')\n",
    "\n",
    "# Split the data into features (emails) and labels (spam or not spam)\n",
    "emails = data['text']\n",
    "labels = data['target']\n"
   ]
  },
  {
   "cell_type": "code",
   "execution_count": 4,
   "id": "cb88b540",
   "metadata": {
    "ExecuteTime": {
     "end_time": "2023-07-09T06:07:51.377309Z",
     "start_time": "2023-07-09T06:07:51.362350Z"
    }
   },
   "outputs": [],
   "source": [
    "X_train, X_test, y_train, y_test = train_test_split(emails, labels, test_size=0.2, random_state=42)\n"
   ]
  },
  {
   "cell_type": "code",
   "execution_count": 5,
   "id": "fb1ae3f6",
   "metadata": {
    "ExecuteTime": {
     "end_time": "2023-07-09T06:08:01.843388Z",
     "start_time": "2023-07-09T06:08:01.506930Z"
    }
   },
   "outputs": [],
   "source": [
    "vectorizer = CountVectorizer()\n",
    "X_train_counts = vectorizer.fit_transform(X_train)\n",
    "X_test_counts = vectorizer.transform(X_test)"
   ]
  },
  {
   "cell_type": "code",
   "execution_count": 6,
   "id": "debd3b6f",
   "metadata": {
    "ExecuteTime": {
     "end_time": "2023-07-09T06:08:11.761047Z",
     "start_time": "2023-07-09T06:08:11.692001Z"
    }
   },
   "outputs": [
    {
     "name": "stdout",
     "output_type": "stream",
     "text": [
      "Accuracy: 0.9919282511210762\n"
     ]
    }
   ],
   "source": [
    "nb_classifier = MultinomialNB()\n",
    "nb_classifier.fit(X_train_counts, y_train)\n",
    "y_pred = nb_classifier.predict(X_test_counts)\n",
    "\n",
    "accuracy = accuracy_score(y_test, y_pred)\n",
    "print(\"Accuracy:\", accuracy)"
   ]
  },
  {
   "cell_type": "code",
   "execution_count": 19,
   "id": "803f5079",
   "metadata": {
    "ExecuteTime": {
     "end_time": "2023-07-09T06:16:29.041341Z",
     "start_time": "2023-07-09T06:16:29.025718Z"
    }
   },
   "outputs": [
    {
     "name": "stdout",
     "output_type": "stream",
     "text": [
      "'You are a winner' : spam\n",
      "'Hello, how are you?' : ham\n"
     ]
    }
   ],
   "source": [
    "new_emails = ['You are a winner', 'Hello, how are you?']\n",
    "new_emails_counts = vectorizer.transform(new_emails)\n",
    "predictions = nb_classifier.predict(new_emails_counts)\n",
    "\n",
    "for email, label in zip(new_emails, predictions):\n",
    "    print(f\"'{email}' : {label}\")\n"
   ]
  },
  {
   "cell_type": "code",
   "execution_count": null,
   "id": "49b8946e",
   "metadata": {},
   "outputs": [],
   "source": []
  }
 ],
 "metadata": {
  "kernelspec": {
   "display_name": "Python 3 (ipykernel)",
   "language": "python",
   "name": "python3"
  },
  "language_info": {
   "codemirror_mode": {
    "name": "ipython",
    "version": 3
   },
   "file_extension": ".py",
   "mimetype": "text/x-python",
   "name": "python",
   "nbconvert_exporter": "python",
   "pygments_lexer": "ipython3",
   "version": "3.10.11"
  },
  "toc": {
   "base_numbering": 1,
   "nav_menu": {},
   "number_sections": true,
   "sideBar": true,
   "skip_h1_title": false,
   "title_cell": "Table of Contents",
   "title_sidebar": "Contents",
   "toc_cell": false,
   "toc_position": {},
   "toc_section_display": true,
   "toc_window_display": false
  },
  "varInspector": {
   "cols": {
    "lenName": 16,
    "lenType": 16,
    "lenVar": 40
   },
   "kernels_config": {
    "python": {
     "delete_cmd_postfix": "",
     "delete_cmd_prefix": "del ",
     "library": "var_list.py",
     "varRefreshCmd": "print(var_dic_list())"
    },
    "r": {
     "delete_cmd_postfix": ") ",
     "delete_cmd_prefix": "rm(",
     "library": "var_list.r",
     "varRefreshCmd": "cat(var_dic_list()) "
    }
   },
   "types_to_exclude": [
    "module",
    "function",
    "builtin_function_or_method",
    "instance",
    "_Feature"
   ],
   "window_display": false
  }
 },
 "nbformat": 4,
 "nbformat_minor": 5
}
